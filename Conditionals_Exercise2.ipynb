{
 "cells": [
  {
   "cell_type": "code",
   "execution_count": 3,
   "id": "f2f16fb8",
   "metadata": {},
   "outputs": [],
   "source": [
    "x = 8\n",
    "y = 0\n",
    "a = \"Hello!\"\n",
    "b = \"\""
   ]
  },
  {
   "cell_type": "code",
   "execution_count": 4,
   "id": "f9ad7423",
   "metadata": {},
   "outputs": [
    {
     "name": "stdout",
     "output_type": "stream",
     "text": [
      "Both of these are not true\n"
     ]
    }
   ],
   "source": [
    "# Check if x and b are both True. If they are, print \"Both of these are true.\"\n",
    "if x==True and b==True:\n",
    "    print(\"Both of these are true\")\n",
    "else:\n",
    "    print(\"Both of these are not true\")"
   ]
  },
  {
   "cell_type": "code",
   "execution_count": 5,
   "id": "23f02194",
   "metadata": {},
   "outputs": [
    {
     "name": "stdout",
     "output_type": "stream",
     "text": [
      "One of these is false\n"
     ]
    }
   ],
   "source": [
    "# Check if y or a is False. If one is, print \"One of these is false.\"\n",
    "if y==False or a==False:\n",
    "    print(\"One of these is false\")\n"
   ]
  },
  {
   "cell_type": "code",
   "execution_count": 6,
   "id": "34a3358a",
   "metadata": {},
   "outputs": [
    {
     "name": "stdout",
     "output_type": "stream",
     "text": [
      "One is false\n"
     ]
    }
   ],
   "source": [
    "# Check if either x or y is False. If one is, print out \"One is false.\"\n",
    "if x!=True or y!=True:\n",
    "    print(\"One is false\")\n"
   ]
  },
  {
   "cell_type": "code",
   "execution_count": 9,
   "id": "cb4e35cf",
   "metadata": {},
   "outputs": [
    {
     "name": "stdout",
     "output_type": "stream",
     "text": [
      "x is greater than y\n"
     ]
    }
   ],
   "source": [
    "# Then, only if either x or y is False, check if x is greater than y. If it is, print out \"x is greater than y.\"\n",
    "if x!=True or y!=True and x>y:\n",
    "    print(\"x is greater than y\")\n"
   ]
  }
 ],
 "metadata": {
  "kernelspec": {
   "display_name": "Python 3 (ipykernel)",
   "language": "python",
   "name": "python3"
  },
  "language_info": {
   "codemirror_mode": {
    "name": "ipython",
    "version": 3
   },
   "file_extension": ".py",
   "mimetype": "text/x-python",
   "name": "python",
   "nbconvert_exporter": "python",
   "pygments_lexer": "ipython3",
   "version": "3.9.13"
  }
 },
 "nbformat": 4,
 "nbformat_minor": 5
}
