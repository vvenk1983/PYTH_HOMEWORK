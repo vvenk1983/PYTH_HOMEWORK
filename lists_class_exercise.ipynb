{
 "cells": [
  {
   "cell_type": "code",
   "execution_count": 3,
   "id": "26c47914",
   "metadata": {},
   "outputs": [],
   "source": [
    "# 1. DECLARE A LIST WITH THE NAMES OF YOUR CLASSMATES. NAME THE LIST AS my_class\n",
    "\n",
    "my_class = [\"Aaron\", \"Iylia\", \"Vishnu\", \"Yogesh\", \"Zie\"]\n"
   ]
  },
  {
   "cell_type": "code",
   "execution_count": 5,
   "id": "e17f71bb",
   "metadata": {},
   "outputs": [
    {
     "name": "stdout",
     "output_type": "stream",
     "text": [
      "5\n"
     ]
    }
   ],
   "source": [
    "# 2. PRINT OUT THE LENGTH OF THAT LIST\n",
    "\n",
    "print(len(my_class))\n"
   ]
  },
  {
   "cell_type": "code",
   "execution_count": 6,
   "id": "46fc35bc",
   "metadata": {},
   "outputs": [
    {
     "name": "stdout",
     "output_type": "stream",
     "text": [
      "Vishnu\n"
     ]
    }
   ],
   "source": [
    "# 3. PRINT THE 3RD NAME ON THE LIST\n",
    "\n",
    "print(my_class[2])"
   ]
  },
  {
   "cell_type": "code",
   "execution_count": 7,
   "id": "e8b3e64b",
   "metadata": {},
   "outputs": [
    {
     "name": "stdout",
     "output_type": "stream",
     "text": [
      "['Iylia', 'Vishnu', 'Yogesh', 'Zie']\n"
     ]
    }
   ],
   "source": [
    "# 4. DELETE THE FIRST NAME ON THE LIST. SAVE THE  DELETED NAME AS deleted_classmate\n",
    "\n",
    "deleted_classmate = my_class.pop(0)\n",
    "\n",
    "print(my_class)\n"
   ]
  },
  {
   "cell_type": "code",
   "execution_count": 8,
   "id": "efff9be0",
   "metadata": {},
   "outputs": [
    {
     "name": "stdout",
     "output_type": "stream",
     "text": [
      "['Iylia', 'Vishnu', 'Yogesh', 'Zie', 'Aaron']\n"
     ]
    }
   ],
   "source": [
    "# 5. RE-ADD THE NAME YOU DELETED (deleted_classmate) TO THE END OF THE LIST\n",
    "\n",
    "my_class.append(deleted_classmate)\n",
    "\n",
    "print(my_class)\n"
   ]
  }
 ],
 "metadata": {
  "kernelspec": {
   "display_name": "Python 3 (ipykernel)",
   "language": "python",
   "name": "python3"
  },
  "language_info": {
   "codemirror_mode": {
    "name": "ipython",
    "version": 3
   },
   "file_extension": ".py",
   "mimetype": "text/x-python",
   "name": "python",
   "nbconvert_exporter": "python",
   "pygments_lexer": "ipython3",
   "version": "3.9.13"
  }
 },
 "nbformat": 4,
 "nbformat_minor": 5
}
